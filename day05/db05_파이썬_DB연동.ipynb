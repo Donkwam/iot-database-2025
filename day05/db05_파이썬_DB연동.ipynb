{
 "cells": [
  {
   "cell_type": "markdown",
   "metadata": {},
   "source": [
    "## DB연동 파이썬 프로그램"
   ]
  },
  {
   "cell_type": "markdown",
   "metadata": {},
   "source": [
    "#### 환경\n",
    "- MySQL 9.2.0\n",
    "- Python 3.11.9\n",
    "    - MySQL 모듈 - PyMySQL"
   ]
  },
  {
   "cell_type": "code",
   "execution_count": 22,
   "metadata": {},
   "outputs": [
    {
     "name": "stdout",
     "output_type": "stream",
     "text": [
      "Requirement already satisfied: pymysql in c:\\users\\admin\\.pyenv\\pyenv-win\\versions\\3.11.9\\lib\\site-packages (1.1.1)\n"
     ]
    },
    {
     "name": "stderr",
     "output_type": "stream",
     "text": [
      "\n",
      "[notice] A new release of pip is available: 24.0 -> 25.0.1\n",
      "[notice] To update, run: python.exe -m pip install --upgrade pip\n"
     ]
    }
   ],
   "source": [
    "# pymysql 모듈 설치\n",
    "!pip install pymysql"
   ]
  },
  {
   "cell_type": "markdown",
   "metadata": {},
   "source": [
    "#### 모듈불러오기"
   ]
  },
  {
   "cell_type": "code",
   "execution_count": 23,
   "metadata": {},
   "outputs": [],
   "source": [
    "import pymysql"
   ]
  },
  {
   "cell_type": "markdown",
   "metadata": {},
   "source": [
    "### DB접속 변수 초기화"
   ]
  },
  {
   "cell_type": "code",
   "execution_count": 24,
   "metadata": {},
   "outputs": [],
   "source": [
    "host = 'localhost'  # or '127.0.0.1'\n",
    "port = 3306\n",
    "database = 'madang'\n",
    "username = 'root'\n",
    "password = '12345'\n",
    "\n",
    "conflag = True  # 접속상태"
   ]
  },
  {
   "cell_type": "markdown",
   "metadata": {},
   "source": [
    "#### DB접속 수행"
   ]
  },
  {
   "cell_type": "code",
   "execution_count": 37,
   "metadata": {},
   "outputs": [
    {
     "name": "stdout",
     "output_type": "stream",
     "text": [
      "DB연결 준비...\n",
      "DB연결 성공!\n"
     ]
    }
   ],
   "source": [
    "try:\n",
    "    print('DB연결 준비...')\n",
    "    # 연결객체 conn 생성\n",
    "    conn = pymysql.connect(host=host, user=username, passwd=password, port=port, db=database)\n",
    "    print('DB연결 성공!')\n",
    "except Exception as e:\n",
    "    print(f'DB연결 실패~!! {e}')\n",
    "    conflag = False"
   ]
  },
  {
   "cell_type": "markdown",
   "metadata": {},
   "source": [
    "#### 데이터 가져오기"
   ]
  },
  {
   "cell_type": "code",
   "execution_count": 39,
   "metadata": {},
   "outputs": [
    {
     "name": "stdout",
     "output_type": "stream",
     "text": [
      "1\t축구의 역사\t\t\t\t\t\t굿스포츠\t\t\t\t7000\n",
      "2\t축구아는 여자\t\t\t\t\t\t나무수\t\t\t\t13000\n",
      "3\t축구의 이해\t\t\t\t\t\t대한미디어\t\t\t\t22000\n",
      "4\t골프 바이블\t\t\t\t\t\t대한미디어\t\t\t\t35000\n",
      "5\t피겨 교본\t\t\t\t\t\t굿스포츠\t\t\t\t8000\n",
      "6\t역도 단계별기술\t\t\t\t\t\t굿스포츠\t\t\t\t6000\n",
      "7\t야구의 추억\t\t\t\t\t\t이상미디어\t\t\t\t20000\n",
      "8\t야구를 부탁해\t\t\t\t\t\t이상미디어\t\t\t\t13000\n",
      "9\t올림픽 이야기\t\t\t\t\t\t삼성당\t\t\t\t7500\n",
      "10\tOlympic Champions\t\t\t\t\t\tPearson\t\t\t\t13000\n",
      "11\t스포츠 의학\t\t\t\t\t\t한솔의학서적\t\t\t\t90000\n",
      "12\t스타워즈 아트북\t\t\t\t\t\t디즈니\t\t\t\t150000\n",
      "13\t기타교본 1\t\t\t\t\t\t지미 핸드릭스\t\t\t\t12000\n",
      "14\t스포츠 의학\t\t\t\t\t\tPearson\t\t\t\t12000\n",
      "21\tZen Golf\t\t\t\t\t\tPearson\t\t\t\t12000\n",
      "22\tSoccer Skills\t\t\t\t\t\tHuman Kinetics\t\t\t\t15000\n",
      "31\tBTS PhotoAlbum\t\t\t\t\t\t하이브\t\t\t\t300000\n",
      "40\t안드로이드는 전기양의 꿈을 꾸는가\t\t\t\t\t\t이상미디어\t\t\t\t25000\n"
     ]
    }
   ],
   "source": [
    "if conflag:\n",
    "    cursor = conn.cursor()  # 커서 생성(MySQL의 커서와 동일한 기능)\n",
    "    # 프로그래밍언어에서 쿼리문을 사용할 시 ;은 제거 ''' 여러줄 문자열로 Workbench랑 동일하게 사용할 수 있음.\n",
    "    query = '''SELECT bookid\n",
    "                    , bookname\n",
    "                    , publisher\n",
    "                    , price\n",
    "                 FROM Book'''\n",
    "    res = cursor.execute(query)     # SQL 실행\n",
    "    data = cursor.fetchall()        # SQL 데이터를 한번에 다 가져옴\n",
    "\n",
    "    # 화면에 출력\n",
    "    for rowdata in data:\n",
    "        print(f'{rowdata[0]}\\t{rowdata[1]}\\t\\t\\t\\t\\t\\t{rowdata[2]}\\t\\t\\t\\t{rowdata[3]}')\n",
    "\n",
    "    cursor.close()"
   ]
  },
  {
   "cell_type": "markdown",
   "metadata": {},
   "source": [
    "#### DB연결 종료"
   ]
  },
  {
   "cell_type": "code",
   "execution_count": 40,
   "metadata": {},
   "outputs": [],
   "source": [
    "conn.close()    # 반드시!"
   ]
  }
 ],
 "metadata": {
  "kernelspec": {
   "display_name": "Python 3",
   "language": "python",
   "name": "python3"
  },
  "language_info": {
   "codemirror_mode": {
    "name": "ipython",
    "version": 3
   },
   "file_extension": ".py",
   "mimetype": "text/x-python",
   "name": "python",
   "nbconvert_exporter": "python",
   "pygments_lexer": "ipython3",
   "version": "3.11.9"
  }
 },
 "nbformat": 4,
 "nbformat_minor": 2
}
